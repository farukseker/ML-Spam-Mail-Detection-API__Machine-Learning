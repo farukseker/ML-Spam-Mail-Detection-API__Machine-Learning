{
 "cells": [
  {
   "cell_type": "markdown",
   "id": "32f78d23-b57f-403b-bd1c-5c484fc65b31",
   "metadata": {},
   "source": [
    "# Api Example requests"
   ]
  },
  {
   "cell_type": "code",
   "execution_count": 12,
   "id": "194c4a72-601f-4907-b1d1-3f1b05aa6ffa",
   "metadata": {},
   "outputs": [],
   "source": [
    "import requests\n",
    "import io\n",
    "import csv"
   ]
  },
  {
   "cell_type": "markdown",
   "id": "ba994d93-7832-4bd9-9984-844ad36cbc99",
   "metadata": {},
   "source": [
    "## status"
   ]
  },
  {
   "cell_type": "code",
   "execution_count": 13,
   "id": "081ea389-0c8b-422a-a030-ccdb5df4a251",
   "metadata": {},
   "outputs": [
    {
     "name": "stdout",
     "output_type": "stream",
     "text": [
      "{\"message\":\"Spam Mail API is ready\"}\n"
     ]
    }
   ],
   "source": [
    "url = \"http://127.0.0.1:8000/\"\n",
    "if response := requests.get(url):\n",
    "    print(response.text)\n",
    "else: \n",
    "    print(\"Service is not working\")\n",
    "    print(response, response.text)"
   ]
  },
  {
   "cell_type": "markdown",
   "id": "a030aba5-0552-46d4-8cf4-e2c53803a3b7",
   "metadata": {},
   "source": [
    "---"
   ]
  },
  {
   "cell_type": "markdown",
   "id": "76df047b-67ed-4c77-9a6c-583fcee3a23a",
   "metadata": {},
   "source": [
    "## Mail Prediction"
   ]
  },
  {
   "cell_type": "code",
   "execution_count": 14,
   "id": "16b6a4c7-3e51-4a97-ae29-f9018046f661",
   "metadata": {},
   "outputs": [
    {
     "name": "stdout",
     "output_type": "stream",
     "text": [
      "{\"prediction\":\"spam\"}\n"
     ]
    }
   ],
   "source": [
    "url = \"http://127.0.0.1:8000/predict\"\n",
    "data = {\n",
    "    \"message\": \"Congratulations, you won $1000!\"\n",
    "}\n",
    "\n",
    "if response := requests.post(url=url, json=data):\n",
    "    print(response.text)\n",
    "else:\n",
    "    print(\"ERROR: There was a problem during the transaction\")"
   ]
  },
  {
   "cell_type": "markdown",
   "id": "0317d312-5a54-4eb3-b17f-806de32494fd",
   "metadata": {},
   "source": [
    "---"
   ]
  },
  {
   "cell_type": "markdown",
   "id": "c26da0b4-f47e-41aa-a706-145a43a64f36",
   "metadata": {},
   "source": [
    "## CSV file Example :"
   ]
  },
  {
   "cell_type": "code",
   "execution_count": 15,
   "id": "41483360-73d8-44d7-95b1-b297896669e3",
   "metadata": {},
   "outputs": [],
   "source": [
    "# Sample test data (list of messages)\n",
    "sample_messages = [\n",
    "    {\"message\": \"Win a free iPhone now!\"},\n",
    "    {\"message\": \"Meeting at 3PM today.\"},\n",
    "    {\"message\": \"Congratulations, you won $1000!\"},\n",
    "    {\"message\": \"Don't forget to submit the report.\"},\n",
    "    {\"message\": \"Limited-time offer just for you.\"},\n",
    "]"
   ]
  },
  {
   "cell_type": "code",
   "execution_count": 16,
   "id": "c6b0f371-da65-4d42-8ca0-d8c165a76bde",
   "metadata": {},
   "outputs": [],
   "source": [
    "# Create a CSV file in memory using StringIO\n",
    "csv_string = io.StringIO()\n",
    "writer = csv.DictWriter(csv_string, fieldnames=[\"message\"])\n",
    "writer.writeheader()\n",
    "writer.writerows(sample_messages)"
   ]
  },
  {
   "cell_type": "code",
   "execution_count": 17,
   "id": "ed8ccc9d-caf1-48cb-8da2-a180e9be5428",
   "metadata": {},
   "outputs": [
    {
     "name": "stdout",
     "output_type": "stream",
     "text": [
      "Status Code: 200\n",
      "Response CSV Content:\n",
      "\n",
      "message,prediction\n",
      "Win a free iPhone now!,ham\n",
      "Meeting at 3PM today.,ham\n",
      "\"Congratulations, you won $1000!\",spam\n",
      "Don't forget to submit the report.,ham\n",
      "Limited-time offer just for you.,ham\n",
      "\n"
     ]
    }
   ],
   "source": [
    "# Convert StringIO to BytesIO for sending as a file\n",
    "csv_bytes = io.BytesIO(csv_string.getvalue().encode(\"utf-8\"))\n",
    "\n",
    "# Define the API endpoint\n",
    "url = \"http://127.0.0.1:8000/predict_csv\"\n",
    "\n",
    "# Prepare the file payload for the request\n",
    "files = {\n",
    "    \"file\": (\"test_messages.csv\", csv_bytes, \"text/csv\")\n",
    "}\n",
    "\n",
    "# Send POST request to the API\n",
    "if response := requests.post(url, files=files):\n",
    "    # Print the results\n",
    "    print(\"Status Code:\", response.status_code)\n",
    "    print(\"Response CSV Content:\\n\")\n",
    "    print(response.text)\n",
    "else:\n",
    "    print(\"ERROR: There was a problem during the transaction\")"
   ]
  },
  {
   "cell_type": "markdown",
   "id": "590af143-8ba8-474a-9c3c-2e0be5c50f4e",
   "metadata": {},
   "source": [
    "---"
   ]
  }
 ],
 "metadata": {
  "kernelspec": {
   "display_name": "Python 3 (ipykernel)",
   "language": "python",
   "name": "python3"
  },
  "language_info": {
   "codemirror_mode": {
    "name": "ipython",
    "version": 3
   },
   "file_extension": ".py",
   "mimetype": "text/x-python",
   "name": "python",
   "nbconvert_exporter": "python",
   "pygments_lexer": "ipython3",
   "version": "3.12.5"
  }
 },
 "nbformat": 4,
 "nbformat_minor": 5
}
